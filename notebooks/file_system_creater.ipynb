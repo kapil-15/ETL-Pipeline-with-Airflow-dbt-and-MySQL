{
 "cells": [
  {
   "cell_type": "code",
   "execution_count": 2,
   "metadata": {},
   "outputs": [
    {
     "name": "stdout",
     "output_type": "stream",
     "text": [
      "✅ ETL pipeline file structure created successfully!\n"
     ]
    }
   ],
   "source": [
    "import os\n",
    "\n",
    "# Define the folder structure\n",
    "file_structure = {\n",
    "    \"airflow\": [\n",
    "        \"dags/etl_pipeline.py\",\n",
    "        \"config/airflow.cfg\",\n",
    "        \"logs/.gitkeep\",\n",
    "        \"plugins/.gitkeep\"\n",
    "    ],\n",
    "    \"dbt_project\": [\n",
    "        \"models/raw/.gitkeep\",\n",
    "        \"models/transformed/.gitkeep\",\n",
    "        \"models/final/.gitkeep\",\n",
    "        \"models/transform.sql\",\n",
    "        \"seeds/.gitkeep\",\n",
    "        \"tests/.gitkeep\",\n",
    "        \"dbt_project.yml\",\n",
    "        \"profiles.yml\"\n",
    "    ],\n",
    "    \"scripts\": [\n",
    "        \"extract.py\",\n",
    "        \"load.py\",\n",
    "        \"transform.py\"\n",
    "    ],\n",
    "    \"data\": [\n",
    "        \"input/.gitkeep\",\n",
    "        \"output/.gitkeep\"\n",
    "    ],\n",
    "    \"docker\": [\n",
    "        \"Dockerfile\",\n",
    "        \"docker-compose.yml\"\n",
    "    ],\n",
    "    \"config\": [\n",
    "        \"db_config.json\",\n",
    "        \"airflow_env.env\"\n",
    "    ],\n",
    "    \"logs\": [\n",
    "        \".gitkeep\"\n",
    "    ],\n",
    "    \".\": [  # Root directory\n",
    "        \"README.md\"\n",
    "    ]\n",
    "}\n",
    "\n",
    "# Create folders and files\n",
    "for folder, files in file_structure.items():\n",
    "    for file in files:\n",
    "        file_path = os.path.join(folder, file)\n",
    "        os.makedirs(os.path.dirname(file_path), exist_ok=True)\n",
    "        with open(file_path, \"w\") as f:\n",
    "            if file.endswith(\".gitkeep\"):\n",
    "                f.write(\"\")  # Empty file to keep folder in Git\n",
    "            elif file.endswith(\".md\"):\n",
    "                f.write(\"# ETL Pipeline Project\\n\\nProject documentation goes here.\")\n",
    "            elif file.endswith(\".yml\"):\n",
    "                f.write(\"# YAML configuration file\")\n",
    "            elif file.endswith(\".json\"):\n",
    "                f.write(\"{\\n  \\\"host\\\": \\\"localhost\\\",\\n  \\\"user\\\": \\\"root\\\",\\n  \\\"password\\\": \\\"password\\\",\\n  \\\"database\\\": \\\"etl_db\\\"\\n}\")\n",
    "            elif file.endswith(\".py\"):\n",
    "                f.write(\"# Python script for ETL process\")\n",
    "            else:\n",
    "                f.write(\"\")  # Default empty file\n",
    "\n",
    "print(\"✅ ETL pipeline file structure created successfully!\")\n"
   ]
  },
  {
   "cell_type": "code",
   "execution_count": null,
   "metadata": {},
   "outputs": [],
   "source": []
  }
 ],
 "metadata": {
  "kernelspec": {
   "display_name": ".conda",
   "language": "python",
   "name": "python3"
  },
  "language_info": {
   "codemirror_mode": {
    "name": "ipython",
    "version": 3
   },
   "file_extension": ".py",
   "mimetype": "text/x-python",
   "name": "python",
   "nbconvert_exporter": "python",
   "pygments_lexer": "ipython3",
   "version": "3.10.13"
  }
 },
 "nbformat": 4,
 "nbformat_minor": 2
}
